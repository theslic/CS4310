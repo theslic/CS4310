{
 "cells": [
  {
   "cell_type": "markdown",
   "metadata": {},
   "source": [
    "# ME1 \n",
    "\n",
    "\n",
    "## Exploratory Data Analysis\n",
    "\n",
    "- See the examples of basic visualization and Pandas on Canvas. "
   ]
  },
  {
   "cell_type": "markdown",
   "metadata": {},
   "source": [
    "#### Write full names of your team members here.\n",
    "\n",
    "-\n",
    "\n",
    "-\n"
   ]
  },
  {
   "cell_type": "markdown",
   "metadata": {},
   "source": [
    "## Advertising data\n",
    "\n",
    "Let's take a look at some data, ask some questions about that data, and then use linear regression to answer those questions!\n",
    "\n",
    "A toy dataset for your exploratory data analysis:\n",
    "\n",
    "./data/Advertising.csv"
   ]
  },
  {
   "cell_type": "code",
   "execution_count": 3,
   "metadata": {},
   "outputs": [
    {
     "data": {
      "text/html": [
       "<div>\n",
       "<style scoped>\n",
       "    .dataframe tbody tr th:only-of-type {\n",
       "        vertical-align: middle;\n",
       "    }\n",
       "\n",
       "    .dataframe tbody tr th {\n",
       "        vertical-align: top;\n",
       "    }\n",
       "\n",
       "    .dataframe thead th {\n",
       "        text-align: right;\n",
       "    }\n",
       "</style>\n",
       "<table border=\"1\" class=\"dataframe\">\n",
       "  <thead>\n",
       "    <tr style=\"text-align: right;\">\n",
       "      <th></th>\n",
       "      <th>TV</th>\n",
       "      <th>Radio</th>\n",
       "      <th>Newspaper</th>\n",
       "      <th>Sales</th>\n",
       "    </tr>\n",
       "  </thead>\n",
       "  <tbody>\n",
       "    <tr>\n",
       "      <th>3/11/19</th>\n",
       "      <td>230.1</td>\n",
       "      <td>37.8</td>\n",
       "      <td>69.2</td>\n",
       "      <td>22.1</td>\n",
       "    </tr>\n",
       "    <tr>\n",
       "      <th>3/12/19</th>\n",
       "      <td>44.5</td>\n",
       "      <td>39.3</td>\n",
       "      <td>45.1</td>\n",
       "      <td>10.4</td>\n",
       "    </tr>\n",
       "    <tr>\n",
       "      <th>3/13/19</th>\n",
       "      <td>17.2</td>\n",
       "      <td>45.9</td>\n",
       "      <td>69.3</td>\n",
       "      <td>9.3</td>\n",
       "    </tr>\n",
       "    <tr>\n",
       "      <th>3/14/19</th>\n",
       "      <td>151.5</td>\n",
       "      <td>41.3</td>\n",
       "      <td>58.5</td>\n",
       "      <td>18.5</td>\n",
       "    </tr>\n",
       "    <tr>\n",
       "      <th>3/15/19</th>\n",
       "      <td>180.8</td>\n",
       "      <td>10.8</td>\n",
       "      <td>58.4</td>\n",
       "      <td>12.9</td>\n",
       "    </tr>\n",
       "  </tbody>\n",
       "</table>\n",
       "</div>"
      ],
      "text/plain": [
       "            TV  Radio  Newspaper  Sales\n",
       "3/11/19  230.1   37.8       69.2   22.1\n",
       "3/12/19   44.5   39.3       45.1   10.4\n",
       "3/13/19   17.2   45.9       69.3    9.3\n",
       "3/14/19  151.5   41.3       58.5   18.5\n",
       "3/15/19  180.8   10.8       58.4   12.9"
      ]
     },
     "execution_count": 3,
     "metadata": {},
     "output_type": "execute_result"
    }
   ],
   "source": [
    "import pandas as pd\n",
    "\n",
    "# read CSV file stored in the current directory and save the results\n",
    "data = pd.read_csv('./data/Advertising.csv', skipinitialspace=True, index_col=0)\n",
    "\n",
    "# display the first 5 rows\n",
    "data.head()"
   ]
  },
  {
   "cell_type": "markdown",
   "metadata": {},
   "source": [
    "What are the features?\n",
    "- **TV:** advertising dollars spent on TV for a single product in a given market (in thousands of dollars)\n",
    "- **Radio:** advertising dollars spent on Radio\n",
    "- **Newspaper:** advertising dollars spent on Newspaper\n",
    "\n",
    "What is the response?\n",
    "- **Sales:** sales of a single product in a given market (in thousands of items)\n",
    "\n",
    "What else do we know?\n",
    "- Because the response variable is continuous, this is a **regression** problem.\n",
    "- There are 200 **observations** (represented by the rows), and each observation is a single market."
   ]
  },
  {
   "cell_type": "code",
   "execution_count": 4,
   "metadata": {},
   "outputs": [
    {
     "data": {
      "text/plain": [
       "(200, 4)"
      ]
     },
     "execution_count": 4,
     "metadata": {},
     "output_type": "execute_result"
    }
   ],
   "source": [
    "#display all data. You can uncomment the code in the next line\n",
    "\n",
    "#display(data)\n",
    "\n",
    "data.shape"
   ]
  },
  {
   "cell_type": "markdown",
   "metadata": {},
   "source": [
    "## Part 1 Tasks\n",
    "\n",
    "Solve each of the following problems. \n",
    "- Check the example Python codes for data visualization and pandas DataFrame examples: EX1_pandas.zip on Week1 Synopsis in Canvas.\n",
    "\n",
    "(1) For each field of the data, what is the mean of the data? What is the median? Are there any dataset has mode value? \n",
    "\n",
    "(2) For each field of the data, give the five-number summary, minimum, the first quartile (Q1), median, the third quartile (Q3), and maximum of the data.\n",
    "\n",
    "(3) For each field of the data, visulize a boxplot of the data and compare it to your answer in (b). \n",
    "\n",
    "(4) For Sales, visualize distribution of the data using histogram. Comment on the data’s modality (i.e., bimodal, trimodal, etc.)\n",
    "\n",
    "(5) For Sales, visualize the trend of the data over time using a graph. \n",
    "\n",
    "(6) For each pair (TV-Sales, Radio-Sales, Newspaper-Sales), calculate the Pearson's correlation coefficient factor r. \n",
    "\n",
    "(7) For each pair (TV-Sales, Radio-Sales, Newspaper-Sales), visualize scatter graph. \n",
    "\n",
    "(8) Discuss what the differences are between the three: (1) boxplot, (2) histogram, and (3) scatter plot with respect to your founding. "
   ]
  },
  {
   "cell_type": "code",
   "execution_count": 5,
   "metadata": {},
   "outputs": [
    {
     "name": "stdout",
     "output_type": "stream",
     "text": [
      "              TV   Radio  Newspaper    Sales\n",
      "mean    147.0425  23.264     30.554  14.0225\n",
      "median  149.7500  22.900     25.750  12.9000\n",
      "      TV  Radio  Newspaper  Sales\n",
      "0   17.2    4.1        8.7    9.7\n",
      "1   76.4    5.7        9.3    NaN\n",
      "2  109.8    NaN       25.6    NaN\n",
      "3  177.0    NaN        NaN    NaN\n",
      "4  184.9    NaN        NaN    NaN\n",
      "5  197.6    NaN        NaN    NaN\n",
      "6  199.8    NaN        NaN    NaN\n",
      "7  222.4    NaN        NaN    NaN\n",
      "8  237.4    NaN        NaN    NaN\n",
      "9  240.1    NaN        NaN    NaN\n"
     ]
    }
   ],
   "source": [
    "import numpy as np\n",
    "import matplotlib.pyplot as plt\n",
    "print(data.agg([np.mean, np.median]))\n",
    "print(data.mode())"
   ]
  },
  {
   "cell_type": "code",
   "execution_count": 6,
   "metadata": {},
   "outputs": [
    {
     "name": "stdout",
     "output_type": "stream",
     "text": [
      "            TV  Radio  Newspaper  Sales\n",
      "amin      0.70    0.0       0.30    1.6\n",
      "median  149.75   22.9      25.75   12.9\n",
      "amax    296.40   49.6     114.00   27.0\n",
      "           TV   Radio  Newspaper   Sales\n",
      "0.25   74.375   9.975      12.75  10.375\n",
      "0.75  218.825  36.525      45.10  17.400\n"
     ]
    }
   ],
   "source": [
    "print(data.agg([np.min, np.median, np.max]))\n",
    "print(data.quantile([.25,.75]))"
   ]
  },
  {
   "cell_type": "code",
   "execution_count": 7,
   "metadata": {},
   "outputs": [
    {
     "data": {
      "image/png": "[encoded data removed]",
      "text/plain": [
       "<Figure size 432x288 with 1 Axes>"
      ]
     },
     "metadata": {
      "needs_background": "light"
     },
     "output_type": "display_data"
    },
    {
     "name": "stdout",
     "output_type": "stream",
     "text": [
      "The boxplot follows the answers to b, showing the proper ranges of the data\n"
     ]
    }
   ],
   "source": [
    "plt.boxplot(data)\n",
    "plt.show()\n",
    "print(\"The boxplot follows the answers to b, showing the proper ranges of the data\")"
   ]
  },
  {
   "cell_type": "code",
   "execution_count": 8,
   "metadata": {},
   "outputs": [
    {
     "data": {
      "image/png": "[encoded data removed]",
      "text/plain": [
       "<Figure size 432x288 with 1 Axes>"
      ]
     },
     "metadata": {
      "needs_background": "light"
     },
     "output_type": "display_data"
    },
    {
     "name": "stdout",
     "output_type": "stream",
     "text": [
      "The histogram is unimodal\n"
     ]
    }
   ],
   "source": [
    "plt.hist(data.Sales)\n",
    "plt.show()\n",
    "print('The histogram is unimodal')"
   ]
  },
  {
   "cell_type": "code",
   "execution_count": 9,
   "metadata": {},
   "outputs": [
    {
     "data": {
      "image/png": "[encoded data removed]",
      "text/plain": [
       "<Figure size 432x288 with 1 Axes>"
      ]
     },
     "metadata": {
      "needs_background": "light"
     },
     "output_type": "display_data"
    }
   ],
   "source": [
    "plt.plot(data.Sales)\n",
    "plt.show()"
   ]
  },
  {
   "cell_type": "code",
   "execution_count": 10,
   "metadata": {},
   "outputs": [
    {
     "data": {
      "text/html": [
       "<div>\n",
       "<style scoped>\n",
       "    .dataframe tbody tr th:only-of-type {\n",
       "        vertical-align: middle;\n",
       "    }\n",
       "\n",
       "    .dataframe tbody tr th {\n",
       "        vertical-align: top;\n",
       "    }\n",
       "\n",
       "    .dataframe thead th {\n",
       "        text-align: right;\n",
       "    }\n",
       "</style>\n",
       "<table border=\"1\" class=\"dataframe\">\n",
       "  <thead>\n",
       "    <tr style=\"text-align: right;\">\n",
       "      <th></th>\n",
       "      <th>TV</th>\n",
       "      <th>Radio</th>\n",
       "      <th>Newspaper</th>\n",
       "      <th>Sales</th>\n",
       "    </tr>\n",
       "  </thead>\n",
       "  <tbody>\n",
       "    <tr>\n",
       "      <th>TV</th>\n",
       "      <td>1.000000</td>\n",
       "      <td>0.054809</td>\n",
       "      <td>0.056648</td>\n",
       "      <td>0.782224</td>\n",
       "    </tr>\n",
       "    <tr>\n",
       "      <th>Radio</th>\n",
       "      <td>0.054809</td>\n",
       "      <td>1.000000</td>\n",
       "      <td>0.354104</td>\n",
       "      <td>0.576223</td>\n",
       "    </tr>\n",
       "    <tr>\n",
       "      <th>Newspaper</th>\n",
       "      <td>0.056648</td>\n",
       "      <td>0.354104</td>\n",
       "      <td>1.000000</td>\n",
       "      <td>0.228299</td>\n",
       "    </tr>\n",
       "    <tr>\n",
       "      <th>Sales</th>\n",
       "      <td>0.782224</td>\n",
       "      <td>0.576223</td>\n",
       "      <td>0.228299</td>\n",
       "      <td>1.000000</td>\n",
       "    </tr>\n",
       "  </tbody>\n",
       "</table>\n",
       "</div>"
      ],
      "text/plain": [
       "                 TV     Radio  Newspaper     Sales\n",
       "TV         1.000000  0.054809   0.056648  0.782224\n",
       "Radio      0.054809  1.000000   0.354104  0.576223\n",
       "Newspaper  0.056648  0.354104   1.000000  0.228299\n",
       "Sales      0.782224  0.576223   0.228299  1.000000"
      ]
     },
     "execution_count": 10,
     "metadata": {},
     "output_type": "execute_result"
    }
   ],
   "source": [
    "data.corr(method='pearson')"
   ]
  },
  {
   "cell_type": "code",
   "execution_count": 11,
   "metadata": {},
   "outputs": [
    {
     "data": {
      "image/png": "[encoded data removed]",
      "text/plain": [
       "<Figure size 432x288 with 1 Axes>"
      ]
     },
     "metadata": {
      "needs_background": "light"
     },
     "output_type": "display_data"
    }
   ],
   "source": [
    "plt.scatter(data.TV, data.Sales, color='blue', marker='s')\n",
    "plt.scatter(data.Radio, data.Sales, color='green', marker='x')\n",
    "plt.scatter(data.Newspaper, data.Sales, color='red')\n",
    "plt.legend(data)\n",
    "plt.show()"
   ]
  },
  {
   "cell_type": "code",
   "execution_count": 12,
   "metadata": {},
   "outputs": [
    {
     "name": "stdout",
     "output_type": "stream",
     "text": [
      "Each technique is a different way to view the data. The boxplot is good at showing the range of the data, the max/min as well as the quartiles. The histogram clearly shows the modes of the data as well as how many modes there are in the data. The line graph shows the relationship between 2 sets of data.\n"
     ]
    }
   ],
   "source": [
    "print(\"Each technique is a different way to view the data. The boxplot is good at showing the range of the data, the max/min as well as the quartiles. The histogram clearly shows the modes of the data as well as how many modes there are in the data. The line graph shows the relationship between 2 sets of data.\")"
   ]
  },
  {
   "cell_type": "markdown",
   "metadata": {},
   "source": [
    "## Part 2\n",
    "Write a summary of what you find from the data and submit the report to CAnvas. "
   ]
  },
  {
   "cell_type": "markdown",
   "metadata": {},
   "source": [
    "### Resources\n",
    "\n",
    "#### Boxplot\n",
    "https://towardsdatascience.com/understanding-boxplots-5e2df7bcbd51\n",
    "\n",
    "\n",
    "- matplotlib.pyplot boxplot demo\n",
    "https://matplotlib.org/3.1.1/gallery/pyplots/boxplot_demo_pyplot.html\n",
    "\n",
    "\n",
    "#### matplotlib.pyplot\n",
    "- scatter plot\n",
    "https://matplotlib.org/3.3.2/api/_as_gen/matplotlib.pyplot.scatter.html\n",
    "\n",
    "\n",
    "- histogram plot\n",
    "https://matplotlib.org/3.3.2/api/_as_gen/matplotlib.pyplot.hist.html\n",
    "\n",
    "\n",
    "#### pandas DataFrame\n",
    "https://pandas.pydata.org/pandas-docs/stable/reference/api/pandas.DataFrame.html\n",
    "\n",
    "\n",
    "- describe()\n",
    "https://pandas.pydata.org/pandas-docs/stable/reference/api/pandas.DataFrame.describe.html\n",
    "\n",
    "\n",
    "- corr()\n",
    "https://pandas.pydata.org/pandas-docs/stable/reference/api/pandas.DataFrame.corr.html\n",
    "\n",
    "\n",
    "- hist()\n",
    "https://pandas.pydata.org/pandas-docs/stable/reference/api/pandas.DataFrame.hist.html\n",
    "\n",
    "\n",
    "- plot.scatter()\n",
    "https://pandas.pydata.org/pandas-docs/stable/reference/api/pandas.DataFrame.plot.scatter.html\n",
    "\n",
    "\n",
    "- pivot()\n",
    "https://pandas.pydata.org/pandas-docs/stable/reference/api/pandas.DataFrame.pivot.html"
   ]
  }
 ],
 "metadata": {
  "kernelspec": {
   "display_name": "Python 3 (ipykernel)",
   "language": "python",
   "name": "python3"
  },
  "language_info": {
   "codemirror_mode": {
    "name": "ipython",
    "version": 3
   },
   "file_extension": ".py",
   "mimetype": "text/x-python",
   "name": "python",
   "nbconvert_exporter": "python",
   "pygments_lexer": "ipython3",
   "version": "3.9.7"
  }
 },
 "nbformat": 4,
 "nbformat_minor": 1
}
